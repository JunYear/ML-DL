{
  "nbformat": 4,
  "nbformat_minor": 0,
  "metadata": {
    "colab": {
      "provenance": [],
      "machine_shape": "hm",
      "gpuType": "T4",
      "mount_file_id": "1iH3gLeQ8fgjH-X2I4VWVnGaJ7e8sYPiz",
      "authorship_tag": "ABX9TyOKUJ7NxBRPDshiVwDiHnAD",
      "include_colab_link": true
    },
    "kernelspec": {
      "name": "python3",
      "display_name": "Python 3"
    },
    "language_info": {
      "name": "python"
    },
    "accelerator": "GPU"
  },
  "cells": [
    {
      "cell_type": "markdown",
      "metadata": {
        "id": "view-in-github",
        "colab_type": "text"
      },
      "source": [
        "<a href=\"https://colab.research.google.com/github/JunYear/ML-DL/blob/main/2.%20AI%26ML%20Hands-On/%5BHands_On%5D_Multi_label_Class_Classification.ipynb\" target=\"_parent\"><img src=\"https://colab.research.google.com/assets/colab-badge.svg\" alt=\"Open In Colab\"/></a>"
      ]
    },
    {
      "cell_type": "code",
      "execution_count": null,
      "metadata": {
        "id": "tpfa3OB9MXmE"
      },
      "outputs": [],
      "source": [
        "import pandas as pd\n",
        "\n",
        "DATA_PATH = ''\n",
        "\n",
        "train_df = pd.read_csv(DATA_PATH + '/train.csv')\n",
        "val_df = pd.read_csv(DATA_PATH + '/val.csv')\n",
        "test_df = pd.read_csv(DATA_PATH + '/test.csv')\n",
        "\n",
        "train_df.head()"
      ]
    },
    {
      "cell_type": "code",
      "source": [
        "from tensorflow.keras.preprocessing.image import ImageDataGenerator\n",
        "\n",
        "train_datagen = ImageDataGenerator(rescale = 1./255)\n",
        "val_datagen = ImageDataGenerator(rescale = 1./255)\n",
        "\n",
        "def get_steps(num_samples, batch_size):\n",
        "  if (num_samples % batch_size) > 0:\n",
        "    return (num_samples // batch_size) + 1\n",
        "  else:\n",
        "    return num_samples // batch_size\n",
        "\n",
        "from tensorflow.keras.models import Sequential\n",
        "from tensorflow.keras.layers import Dense, Flatten\n",
        "\n",
        "model = Sequential()\n",
        "\n",
        "model.add(Flatten(input_shape = (112, 112, 3)))\n",
        "model.add(Dense(128, activation = 'relu'))\n",
        "model.add(Dense(64, activation = 'relu'))\n",
        "model.add(Dense(11, activation = 'sigmoid'))\n",
        "\n",
        "model.compile(optimizer = 'adam',\n",
        "              loss = 'binary_crossentropy',\n",
        "              metrics = ['acc'])"
      ],
      "metadata": {
        "id": "h8LJMHwgM5ns"
      },
      "execution_count": null,
      "outputs": []
    },
    {
      "cell_type": "code",
      "source": [
        "batch_size = 32\n",
        "class_col = ['black', 'blue', 'brown', 'green', 'red', 'white', 'dress', 'shirt', 'pants', 'shorts', 'shoes']\n",
        "\n",
        "train_generator = train_datagen.flow_from_dataframe(\n",
        "    dataframe = train_df,\n",
        "    directory='',\n",
        "    x_col='image',\n",
        "    y_col=class_col,\n",
        "    target_size=(112, 112),\n",
        "    color_mode='rgb',\n",
        "    class_mode='other',\n",
        "    batch_size=batch_size,\n",
        "    seed=42\n",
        ")\n",
        "\n",
        "val_generator = val_datagen.flow_from_dataframe(\n",
        "    dataframe=val_df,\n",
        "    directory='',\n",
        "    x_col = 'image',\n",
        "    y_col = class_col,\n",
        "    target_size = (112, 112),\n",
        "    color_mode='rgb',\n",
        "    class_mode='other',\n",
        "    batch_size=batch_size,\n",
        "    shuffle=True\n",
        ")"
      ],
      "metadata": {
        "id": "4TsopM6nM5wn"
      },
      "execution_count": null,
      "outputs": []
    },
    {
      "cell_type": "code",
      "source": [
        "model.fit(train_generator,\n",
        "          steps_per_epoch=get_steps(len(train_df), batch_size),\n",
        "          validation_data = val_generator,\n",
        "          validation_steps=get_steps(len(val_df), batch_size),\n",
        "          epochs=10)"
      ],
      "metadata": {
        "id": "Jr9sfN1VM52u"
      },
      "execution_count": null,
      "outputs": []
    },
    {
      "cell_type": "code",
      "source": [
        "do_preds = preds[:8]\n",
        "\n",
        "for i, pred in enumerate(do_preds):\n",
        "  plt.subplot(2, 4 ,i + 1)\n",
        "  prob = zip(class_col, list(pred))\n",
        "  prob = sorted(list(prob), key = lambda z : z[1], reverse = True)[:2]\n",
        "\n",
        "  image = cv2.imread(test_df['image'][i])\n",
        "  image = cv2.cvtColor(image, cv2.COLOR_BGR2RGB)\n",
        "\n",
        "  plt.imshow(image)\n",
        "  plt.title(f'{prob[0][0]}: {round(prob[0][1] * 100, 2)}% \\n {prob[1][0]}: {round(prob[1][1] * 100, 2)}%')\n",
        "\n",
        "plt.tight_layout()"
      ],
      "metadata": {
        "id": "ExwBD_nxM57Q"
      },
      "execution_count": null,
      "outputs": []
    },
    {
      "cell_type": "code",
      "source": [],
      "metadata": {
        "id": "k8y9IVGEM5-r"
      },
      "execution_count": null,
      "outputs": []
    }
  ]
}