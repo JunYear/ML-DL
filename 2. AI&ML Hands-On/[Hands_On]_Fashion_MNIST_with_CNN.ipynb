{
  "nbformat": 4,
  "nbformat_minor": 0,
  "metadata": {
    "colab": {
      "provenance": [],
      "machine_shape": "hm",
      "gpuType": "T4",
      "authorship_tag": "ABX9TyNrvJ/7bgq5GQmRxmBe+hgu",
      "include_colab_link": true
    },
    "kernelspec": {
      "name": "python3",
      "display_name": "Python 3"
    },
    "language_info": {
      "name": "python"
    },
    "accelerator": "GPU"
  },
  "cells": [
    {
      "cell_type": "markdown",
      "metadata": {
        "id": "view-in-github",
        "colab_type": "text"
      },
      "source": [
        "<a href=\"https://colab.research.google.com/github/JunYear/ML-DL/blob/main/2.%20AI%26ML%20Hands-On/%5BHands_On%5D_Fashion_MNIST_with_CNN.ipynb\" target=\"_parent\"><img src=\"https://colab.research.google.com/assets/colab-badge.svg\" alt=\"Open In Colab\"/></a>"
      ]
    },
    {
      "cell_type": "code",
      "execution_count": null,
      "metadata": {
        "colab": {
          "base_uri": "https://localhost:8080/"
        },
        "id": "yKSAMljvuyzB",
        "outputId": "fda86452-61db-4233-b91f-c091f9247f09"
      },
      "outputs": [
        {
          "output_type": "stream",
          "name": "stdout",
          "text": [
            "Ready Fashion-MNIST Dataset !!\n"
          ]
        }
      ],
      "source": [
        "from tensorflow.keras.datasets import fashion_mnist\n",
        "\n",
        "(X_train, y_train), (X_test, y_test) = fashion_mnist.load_data()\n",
        "\n",
        "import matplotlib.pyplot as plt\n",
        "import numpy as np\n",
        "\n",
        "class_names = ['T-shirt/top', 'Trouser', 'Pullover', 'Dress', 'Coat',\n",
        "               'Sandal', 'Shirt', 'Sneaker', 'Bag', 'Ankle boot']\n",
        "sample_size = 9\n",
        "\n",
        "random_idx = np.random.randint(60000, size=sample_size)\n",
        "\n",
        "X_train = np.reshape(X_train / 255, (-1, 28, 28, 1))\n",
        "X_test = np.reshape(X_test / 255, (-1, 28, 28, 1))\n",
        "\n",
        "from tensorflow.keras.utils import to_categorical\n",
        "\n",
        "y_train = to_categorical(y_train)\n",
        "y_test = to_categorical(y_test)\n",
        "\n",
        "from sklearn.model_selection import train_test_split\n",
        "\n",
        "X_train, X_val, y_train, y_val = train_test_split(X_train, y_train,\n",
        "                                                  test_size = 0.3,\n",
        "                                                  random_state=777)\n",
        "\n",
        "print('Ready Fashion-MNIST Dataset !!')\n"
      ]
    },
    {
      "cell_type": "code",
      "source": [
        "from tensorflow.keras.models import Sequential\n",
        "from tensorflow.keras.layers import Conv2D, MaxPool2D, Dense, Flatten\n",
        "\n",
        "model = Sequential([\n",
        "    Conv2D(filters=17, kernel_size=3, padding='same',\n",
        "           activation='relu',input_shape=(28,28,1)),\n",
        "    MaxPool2D(pool_size=(2,2), strides=2, padding='same'),\n",
        "    Conv2D(filters=32,kernel_size=3,padding='same',activation='relu'),\n",
        "    MaxPool2D(pool_size=(2,2), strides=2, padding='same'),\n",
        "    Conv2D(filters=64,kernel_size=3,padding='same',activation='relu'),\n",
        "    MaxPool2D(pool_size=(2,2), strides=2, padding='same'),\n",
        "    Flatten(),\n",
        "    Dense(64, activation='relu'),\n",
        "    Dense(10, activation='softmax')\n",
        "])"
      ],
      "metadata": {
        "colab": {
          "base_uri": "https://localhost:8080/"
        },
        "id": "W5NFqOQ4wFe6",
        "outputId": "a2b6deb2-3d37-49db-da67-fe59b0a8bd74"
      },
      "execution_count": null,
      "outputs": [
        {
          "output_type": "stream",
          "name": "stderr",
          "text": [
            "/usr/local/lib/python3.10/dist-packages/keras/src/layers/convolutional/base_conv.py:107: UserWarning: Do not pass an `input_shape`/`input_dim` argument to a layer. When using Sequential models, prefer using an `Input(shape)` object as the first layer in the model instead.\n",
            "  super().__init__(activity_regularizer=activity_regularizer, **kwargs)\n"
          ]
        }
      ]
    },
    {
      "cell_type": "code",
      "source": [
        "model.compile(\n",
        "    optimizer='adam',\n",
        "    loss='categorical_crossentropy',\n",
        "    metrics=['acc']\n",
        ")\n",
        "\n",
        "model.fit(X_train, y_train,\n",
        "          epochs=30,\n",
        "          batch_size=128,\n",
        "          validation_data=(X_val, y_val)\n",
        ")"
      ],
      "metadata": {
        "colab": {
          "base_uri": "https://localhost:8080/"
        },
        "id": "LigeumGsw15O",
        "outputId": "5c367b42-fd73-4322-b7a8-b94d22db06ec"
      },
      "execution_count": null,
      "outputs": [
        {
          "output_type": "stream",
          "name": "stdout",
          "text": [
            "Epoch 1/30\n",
            "\u001b[1m329/329\u001b[0m \u001b[32m━━━━━━━━━━━━━━━━━━━━\u001b[0m\u001b[37m\u001b[0m \u001b[1m9s\u001b[0m 13ms/step - acc: 0.6674 - loss: 0.9739 - val_acc: 0.8419 - val_loss: 0.4432\n",
            "Epoch 2/30\n",
            "\u001b[1m329/329\u001b[0m \u001b[32m━━━━━━━━━━━━━━━━━━━━\u001b[0m\u001b[37m\u001b[0m \u001b[1m1s\u001b[0m 3ms/step - acc: 0.8556 - loss: 0.4027 - val_acc: 0.8759 - val_loss: 0.3510\n",
            "Epoch 3/30\n",
            "\u001b[1m329/329\u001b[0m \u001b[32m━━━━━━━━━━━━━━━━━━━━\u001b[0m\u001b[37m\u001b[0m \u001b[1m1s\u001b[0m 3ms/step - acc: 0.8800 - loss: 0.3306 - val_acc: 0.8822 - val_loss: 0.3230\n",
            "Epoch 4/30\n",
            "\u001b[1m329/329\u001b[0m \u001b[32m━━━━━━━━━━━━━━━━━━━━\u001b[0m\u001b[37m\u001b[0m \u001b[1m1s\u001b[0m 3ms/step - acc: 0.8883 - loss: 0.3084 - val_acc: 0.8924 - val_loss: 0.3048\n",
            "Epoch 5/30\n",
            "\u001b[1m329/329\u001b[0m \u001b[32m━━━━━━━━━━━━━━━━━━━━\u001b[0m\u001b[37m\u001b[0m \u001b[1m1s\u001b[0m 3ms/step - acc: 0.8960 - loss: 0.2852 - val_acc: 0.8759 - val_loss: 0.3290\n",
            "Epoch 6/30\n",
            "\u001b[1m329/329\u001b[0m \u001b[32m━━━━━━━━━━━━━━━━━━━━\u001b[0m\u001b[37m\u001b[0m \u001b[1m1s\u001b[0m 3ms/step - acc: 0.9023 - loss: 0.2692 - val_acc: 0.8946 - val_loss: 0.2934\n",
            "Epoch 7/30\n",
            "\u001b[1m329/329\u001b[0m \u001b[32m━━━━━━━━━━━━━━━━━━━━\u001b[0m\u001b[37m\u001b[0m \u001b[1m1s\u001b[0m 3ms/step - acc: 0.9088 - loss: 0.2463 - val_acc: 0.9024 - val_loss: 0.2731\n",
            "Epoch 8/30\n",
            "\u001b[1m329/329\u001b[0m \u001b[32m━━━━━━━━━━━━━━━━━━━━\u001b[0m\u001b[37m\u001b[0m \u001b[1m1s\u001b[0m 3ms/step - acc: 0.9143 - loss: 0.2316 - val_acc: 0.9076 - val_loss: 0.2618\n",
            "Epoch 9/30\n",
            "\u001b[1m329/329\u001b[0m \u001b[32m━━━━━━━━━━━━━━━━━━━━\u001b[0m\u001b[37m\u001b[0m \u001b[1m1s\u001b[0m 3ms/step - acc: 0.9209 - loss: 0.2140 - val_acc: 0.9008 - val_loss: 0.2792\n",
            "Epoch 10/30\n",
            "\u001b[1m329/329\u001b[0m \u001b[32m━━━━━━━━━━━━━━━━━━━━\u001b[0m\u001b[37m\u001b[0m \u001b[1m1s\u001b[0m 3ms/step - acc: 0.9202 - loss: 0.2180 - val_acc: 0.9096 - val_loss: 0.2563\n",
            "Epoch 11/30\n",
            "\u001b[1m329/329\u001b[0m \u001b[32m━━━━━━━━━━━━━━━━━━━━\u001b[0m\u001b[37m\u001b[0m \u001b[1m1s\u001b[0m 3ms/step - acc: 0.9300 - loss: 0.1921 - val_acc: 0.9137 - val_loss: 0.2447\n",
            "Epoch 12/30\n",
            "\u001b[1m329/329\u001b[0m \u001b[32m━━━━━━━━━━━━━━━━━━━━\u001b[0m\u001b[37m\u001b[0m \u001b[1m1s\u001b[0m 3ms/step - acc: 0.9331 - loss: 0.1804 - val_acc: 0.9027 - val_loss: 0.2838\n",
            "Epoch 13/30\n",
            "\u001b[1m329/329\u001b[0m \u001b[32m━━━━━━━━━━━━━━━━━━━━\u001b[0m\u001b[37m\u001b[0m \u001b[1m1s\u001b[0m 3ms/step - acc: 0.9345 - loss: 0.1750 - val_acc: 0.9064 - val_loss: 0.2619\n",
            "Epoch 14/30\n",
            "\u001b[1m329/329\u001b[0m \u001b[32m━━━━━━━━━━━━━━━━━━━━\u001b[0m\u001b[37m\u001b[0m \u001b[1m1s\u001b[0m 3ms/step - acc: 0.9394 - loss: 0.1621 - val_acc: 0.9106 - val_loss: 0.2660\n",
            "Epoch 15/30\n",
            "\u001b[1m329/329\u001b[0m \u001b[32m━━━━━━━━━━━━━━━━━━━━\u001b[0m\u001b[37m\u001b[0m \u001b[1m1s\u001b[0m 3ms/step - acc: 0.9458 - loss: 0.1523 - val_acc: 0.9109 - val_loss: 0.2523\n",
            "Epoch 16/30\n",
            "\u001b[1m329/329\u001b[0m \u001b[32m━━━━━━━━━━━━━━━━━━━━\u001b[0m\u001b[37m\u001b[0m \u001b[1m1s\u001b[0m 3ms/step - acc: 0.9506 - loss: 0.1409 - val_acc: 0.9099 - val_loss: 0.2658\n",
            "Epoch 17/30\n",
            "\u001b[1m329/329\u001b[0m \u001b[32m━━━━━━━━━━━━━━━━━━━━\u001b[0m\u001b[37m\u001b[0m \u001b[1m1s\u001b[0m 3ms/step - acc: 0.9493 - loss: 0.1361 - val_acc: 0.9150 - val_loss: 0.2524\n",
            "Epoch 18/30\n",
            "\u001b[1m329/329\u001b[0m \u001b[32m━━━━━━━━━━━━━━━━━━━━\u001b[0m\u001b[37m\u001b[0m \u001b[1m1s\u001b[0m 3ms/step - acc: 0.9548 - loss: 0.1238 - val_acc: 0.9149 - val_loss: 0.2647\n",
            "Epoch 19/30\n",
            "\u001b[1m329/329\u001b[0m \u001b[32m━━━━━━━━━━━━━━━━━━━━\u001b[0m\u001b[37m\u001b[0m \u001b[1m1s\u001b[0m 3ms/step - acc: 0.9569 - loss: 0.1160 - val_acc: 0.9155 - val_loss: 0.2686\n",
            "Epoch 20/30\n",
            "\u001b[1m329/329\u001b[0m \u001b[32m━━━━━━━━━━━━━━━━━━━━\u001b[0m\u001b[37m\u001b[0m \u001b[1m1s\u001b[0m 3ms/step - acc: 0.9613 - loss: 0.1062 - val_acc: 0.9104 - val_loss: 0.2857\n",
            "Epoch 21/30\n",
            "\u001b[1m329/329\u001b[0m \u001b[32m━━━━━━━━━━━━━━━━━━━━\u001b[0m\u001b[37m\u001b[0m \u001b[1m1s\u001b[0m 3ms/step - acc: 0.9623 - loss: 0.1029 - val_acc: 0.9156 - val_loss: 0.2832\n",
            "Epoch 22/30\n",
            "\u001b[1m329/329\u001b[0m \u001b[32m━━━━━━━━━━━━━━━━━━━━\u001b[0m\u001b[37m\u001b[0m \u001b[1m1s\u001b[0m 3ms/step - acc: 0.9672 - loss: 0.0924 - val_acc: 0.9181 - val_loss: 0.2831\n",
            "Epoch 23/30\n",
            "\u001b[1m329/329\u001b[0m \u001b[32m━━━━━━━━━━━━━━━━━━━━\u001b[0m\u001b[37m\u001b[0m \u001b[1m1s\u001b[0m 3ms/step - acc: 0.9633 - loss: 0.1038 - val_acc: 0.9073 - val_loss: 0.3224\n",
            "Epoch 24/30\n",
            "\u001b[1m329/329\u001b[0m \u001b[32m━━━━━━━━━━━━━━━━━━━━\u001b[0m\u001b[37m\u001b[0m \u001b[1m1s\u001b[0m 3ms/step - acc: 0.9665 - loss: 0.0889 - val_acc: 0.9151 - val_loss: 0.2939\n",
            "Epoch 25/30\n",
            "\u001b[1m329/329\u001b[0m \u001b[32m━━━━━━━━━━━━━━━━━━━━\u001b[0m\u001b[37m\u001b[0m \u001b[1m1s\u001b[0m 3ms/step - acc: 0.9728 - loss: 0.0742 - val_acc: 0.9151 - val_loss: 0.3064\n",
            "Epoch 26/30\n",
            "\u001b[1m329/329\u001b[0m \u001b[32m━━━━━━━━━━━━━━━━━━━━\u001b[0m\u001b[37m\u001b[0m \u001b[1m1s\u001b[0m 3ms/step - acc: 0.9733 - loss: 0.0749 - val_acc: 0.9131 - val_loss: 0.3137\n",
            "Epoch 27/30\n",
            "\u001b[1m329/329\u001b[0m \u001b[32m━━━━━━━━━━━━━━━━━━━━\u001b[0m\u001b[37m\u001b[0m \u001b[1m1s\u001b[0m 3ms/step - acc: 0.9788 - loss: 0.0608 - val_acc: 0.9167 - val_loss: 0.3129\n",
            "Epoch 28/30\n",
            "\u001b[1m329/329\u001b[0m \u001b[32m━━━━━━━━━━━━━━━━━━━━\u001b[0m\u001b[37m\u001b[0m \u001b[1m1s\u001b[0m 3ms/step - acc: 0.9790 - loss: 0.0590 - val_acc: 0.9080 - val_loss: 0.3564\n",
            "Epoch 29/30\n",
            "\u001b[1m329/329\u001b[0m \u001b[32m━━━━━━━━━━━━━━━━━━━━\u001b[0m\u001b[37m\u001b[0m \u001b[1m1s\u001b[0m 3ms/step - acc: 0.9805 - loss: 0.0556 - val_acc: 0.9109 - val_loss: 0.3552\n",
            "Epoch 30/30\n",
            "\u001b[1m329/329\u001b[0m \u001b[32m━━━━━━━━━━━━━━━━━━━━\u001b[0m\u001b[37m\u001b[0m \u001b[1m1s\u001b[0m 3ms/step - acc: 0.9788 - loss: 0.0595 - val_acc: 0.9103 - val_loss: 0.3782\n"
          ]
        },
        {
          "output_type": "execute_result",
          "data": {
            "text/plain": [
              "<keras.src.callbacks.history.History at 0x7b655c28a3e0>"
            ]
          },
          "metadata": {},
          "execution_count": 5
        }
      ]
    },
    {
      "cell_type": "code",
      "source": [],
      "metadata": {
        "id": "BDzE7vM4xF6Z"
      },
      "execution_count": null,
      "outputs": []
    }
  ]
}