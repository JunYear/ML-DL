{
  "nbformat": 4,
  "nbformat_minor": 0,
  "metadata": {
    "colab": {
      "provenance": []
    },
    "kernelspec": {
      "name": "python3",
      "display_name": "Python 3"
    },
    "language_info": {
      "name": "python"
    }
  },
  "cells": [
    {
      "cell_type": "code",
      "execution_count": null,
      "metadata": {
        "colab": {
          "base_uri": "https://localhost:8080/"
        },
        "id": "kq5D5-_YcCEr",
        "outputId": "d53e97e9-21ab-4a61-a417-66509c674bc8"
      },
      "outputs": [
        {
          "output_type": "stream",
          "name": "stdout",
          "text": [
            "Requirement already satisfied: psutil in /usr/local/lib/python3.10/dist-packages (5.9.5)\n"
          ]
        }
      ],
      "source": [
        "!pip install psutil"
      ]
    },
    {
      "cell_type": "markdown",
      "source": [
        "# 컴퓨터 정보 확인 코드 만들기\n",
        "* cpu속도, 물리 코어수, 메모리, 디스크, 네트웤크 정보를 확인"
      ],
      "metadata": {
        "id": "A3p0S6fbcGuh"
      }
    },
    {
      "cell_type": "code",
      "source": [
        "import psutil\n",
        "\n",
        "# CPU의 속도 출력\n",
        "cpu = psutil.cpu_freq()\n",
        "print(cpu)\n",
        "\n",
        "# CPU의 물리 코어 수 출력\n",
        "cpu_core = psutil.cpu_count(logical=False)\n",
        "print(cpu_core)\n",
        "\n",
        "# 메모리의 정보 출력\n",
        "memory = psutil.virtual_memory()\n",
        "print(memory)\n",
        "\n",
        "# 디스크의 정보 출력\n",
        "disk = psutil.disk_partitions()\n",
        "print(disk)\n",
        "\n",
        "# 네트워크를 통해 보내고 받은 데이터량 출력\n",
        "net = psutil.net_io_counters()\n",
        "print(net)"
      ],
      "metadata": {
        "id": "Q1hXZnr-cKmN"
      },
      "execution_count": null,
      "outputs": []
    },
    {
      "cell_type": "markdown",
      "source": [
        "# 필요한 정보만 출력하는 코드"
      ],
      "metadata": {
        "id": "D95Ar7NIcu7H"
      }
    },
    {
      "cell_type": "code",
      "source": [
        "import psutil\n",
        "\n",
        "# CPU의 속도를 출력\n",
        "cpu = psutil.cpu_freq()\n",
        "cpu_current_ghz = round(cpu.current / 1000, 2)\n",
        "print(f\"cpu 속도: {cpu_current_ghz}GHz\")\n",
        "\n",
        "# CPU의 물리 코어 수를 출력\n",
        "cpu_core = psutil.cpu_count(logical=False)\n",
        "print(f\"코어: {cpu_core} 개\")\n",
        "\n",
        "# 메모리의 총량을 출력\n",
        "memory = psutil.virtual_memory()\n",
        "memory_total = round(memory.total / 1024**3)\n",
        "print(f\"메모리: {memory_total} GB\")\n",
        "\n",
        "# 디스크 크기를 출력\n",
        "disk = psutil.disk_partitions()\n",
        "for p in disk:\n",
        "  print(p.mountpoint, p.fstype, end=' ')\n",
        "  du = psutil.disk_usage(p.mountpoint)\n",
        "  disk_total = round(du.total / 1024**3)\n",
        "  print(f'디스크 크기: {disk_total} GB')\n",
        "\n",
        "# 네트워크를 통해 보내고 받은 데이터 크기를 MB 단위로 출력\n",
        "net = psutil.net_io_counters()\n",
        "sent = round(net.bytes_sent/1024**2, 1)\n",
        "recv = round(net.bytes_recv/1024**2, 1)\n",
        "print(f'보내기: {sent} MB 받기: {recv} MB')"
      ],
      "metadata": {
        "id": "lCumcucXs7iY"
      },
      "execution_count": null,
      "outputs": []
    },
    {
      "cell_type": "markdown",
      "source": [
        "# 1초당 반복해서 정보를 출력하는 코드 만들기\n",
        "* 1초에 한 번씩 반복하여 CPU 사용량, 사용 가능한 메모리, 네트워크 사용량을 출력하는 코드"
      ],
      "metadata": {
        "id": "eIiS0pnGuJMD"
      }
    },
    {
      "cell_type": "code",
      "source": [
        "import psutil\n",
        "\n",
        "curr_sent = 0\n",
        "curr_recv = 0\n",
        "\n",
        "prev_sent = 0\n",
        "prev_recv = 0\n",
        "\n",
        "while True:\n",
        "  # CPU의 사용량을 1초동안의 평균값을 구한다.\n",
        "  # interval의 시간을 조절하여 평균을 구하는 시간을 조절할 수 있음\n",
        "  cpu_p = psutil.cpu_percent(interval=1)\n",
        "  print(f'CPU 사용량: {cpu_p}%')\n",
        "\n",
        "  # 사용 가능한 메모리 출력\n",
        "  memory = psutil.virtual_memory()\n",
        "  memory_avail = round(memory.available/1024**3, 1)\n",
        "  print(f'사용 가능한 메모리: {memory_avail} GB')\n",
        "\n",
        "  net = psutil.net_io_counters()\n",
        "  curr_sent = net.bytes_sent/1024**2\n",
        "  curr_recv = net.bytes_recv/1024**2\n",
        "\n",
        "  # 현재 (curr_sent) 측정한 값에서 이전에 (prev_sent) 측정한 값을 빼면 1초 동안 보내는 데이터를 구할 수 있음\n",
        "  sent = round(curr_sent-prev_sent, 1)\n",
        "  # 현재 (curr_recv) 측정한 값에서 이전에 (prev_recv) 측정한 값을 뺴면 1초 동안 받은 데이터를 구할 수 있음\n",
        "  recv = round(curr_recv-prev_recv, 1)\n",
        "  print(f'보내기: {sent} MB 받기: {recv} MB')\n",
        "\n",
        "  prev_sent = curr_sent\n",
        "  prev_recv = curr_recv"
      ],
      "metadata": {
        "id": "FpyZ4y-luqc6"
      },
      "execution_count": null,
      "outputs": []
    }
  ]
}