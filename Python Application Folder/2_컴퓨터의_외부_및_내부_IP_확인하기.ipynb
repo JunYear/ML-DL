{
  "nbformat": 4,
  "nbformat_minor": 0,
  "metadata": {
    "colab": {
      "provenance": []
    },
    "kernelspec": {
      "name": "python3",
      "display_name": "Python 3"
    },
    "language_info": {
      "name": "python"
    }
  },
  "cells": [
    {
      "cell_type": "markdown",
      "source": [
        "# 컴퓨터의 외부 및 내부 IP 확인하기\n",
        "* 자신의 컴퓨터의 외부 및 내부 IP를 확인할 수 있는 코드 작성\n",
        "* 가상 환경 등으로 내부의 IP가 변경되어도 정확한 IP를 찾는 코드 작성"
      ],
      "metadata": {
        "id": "iz9yUQOZJQBA"
      }
    },
    {
      "cell_type": "markdown",
      "source": [
        "## 컴퓨터 내부 IP 알아보는 코드 만들기"
      ],
      "metadata": {
        "id": "9ABjW_X3Kxbb"
      }
    },
    {
      "cell_type": "code",
      "source": [
        "# socket: 컴퓨터가 연결된 접속 정보를 받아올 때 사용하는 모듈\n",
        "import socket\n",
        "\n",
        "# 연결된 소켓의 이름을 가져와 in_addr 변수와 바인딩\n",
        "in_addr = socket.gethostbyname(socket.gethostname())\n",
        "\n",
        "# in_addr을 출력하여 내부 IP를 확인\n",
        "print(in_addr)"
      ],
      "metadata": {
        "id": "KTHDgeYSJTQX"
      },
      "execution_count": null,
      "outputs": []
    },
    {
      "cell_type": "markdown",
      "source": [
        "## 가상 환경 등 여러 개의 환경이 있는 경우에서의 IP 출력"
      ],
      "metadata": {
        "id": "mEA8CuVcJ5Bu"
      }
    },
    {
      "cell_type": "code",
      "source": [
        "import socket\n",
        "\n",
        "# 소켓을 연결\n",
        "in_addr = socket.socket(socket.AF_INET, socket.SOCK_STREAM)\n",
        "# www.google.co.kr에 접속. 기본 접속 포트는 443\n",
        "in_addr.connect((\"www.google.co.kr\", 443))\n",
        "# 연결된 소켓의 이름을 출력\n",
        "print(in_addr.getsockname()[0])"
      ],
      "metadata": {
        "id": "t8pVS32fLLHA"
      },
      "execution_count": null,
      "outputs": []
    },
    {
      "cell_type": "markdown",
      "source": [
        "# 컴퓨터 외부 IP 알아보는 코드 만들고 실행\n",
        "* 외부의 IP를 확인하는 방법은 특정 사이트에서 접속하여 내가 연결된 IP를 확인하는 방법이 있음\n",
        "1. 웹 브라우저에서 \"https://ipconfig.kr\" 사이트에 접속\n",
        "2. 연결된 IP주소를 알려준다."
      ],
      "metadata": {
        "id": "5jBpmb9WLZtB"
      }
    },
    {
      "cell_type": "code",
      "source": [
        "# 사이트를 접속하기 위해 requests 모듈을 불러오기\n",
        "import requests\n",
        "# IP주소를 찾기 위한 정규식을 사용하기 위해 re 모듈을 불러오기\n",
        "import re\n",
        "\n",
        "# https://ipconfig.kr 사이트에 접속\n",
        "req = requests.get(\"http://ipconfig.kr\")\n",
        "# 정규식 표현을 사용하여 IP 주소를 가져와 out_addr 변수와 바인딩\n",
        "out_addr = re.search(r'IP Address : (\\d{1,3}\\.\\d{1,3}\\.\\d{1,3}\\.\\d{1,3})', req.text)\n",
        "# 외부 IP주소를 출력\n",
        "print(out_addr)"
      ],
      "metadata": {
        "id": "Wl2z5jO8L21j"
      },
      "execution_count": null,
      "outputs": []
    },
    {
      "cell_type": "markdown",
      "source": [
        "# 내부, 외부 IP 한 번에 출력하는 코드 만들고 실행"
      ],
      "metadata": {
        "id": "U8Lzu4fKTUIv"
      }
    },
    {
      "cell_type": "code",
      "source": [
        "import socket\n",
        "import requests\n",
        "import re\n",
        "\n",
        "in_addr = socket.socket(socket.AF_INET, socket.SOCK_STREAM)\n",
        "in_addr.connect((\"www.google.co.kr\", 443))\n",
        "print(\"내부 IP: \", in_addr.getsockname()[0])\n",
        "\n",
        "req = requests.get(\"http://ipconfig.kr\")\n",
        "out_addr = re.search(r'IP Address : (\\d{1,3}\\.\\d{1,3}\\.\\d{1,3}\\.\\d{1,3})', req.text)\n",
        "print(\"외부 IP: \", out_addr)"
      ],
      "metadata": {
        "id": "C_NCdyvoNPvb"
      },
      "execution_count": null,
      "outputs": []
    }
  ]
}